{
 "cells": [
  {
   "cell_type": "markdown",
   "metadata": {},
   "source": [
    "# # joblib\n",
    "---"
   ]
  },
  {
   "cell_type": "code",
   "execution_count": null,
   "metadata": {},
   "outputs": [],
   "source": [
    "from joblib import Parallel, delayed\n",
    "\n",
    "# csv파일과 json파일을 각각 리스트로 가져옴\n",
    "csv_files8, json_files8 = Parallel(os.cpu_count())(delayed(V2XPreprocessing.get_csv_data)(data_path + \"/CSV\"), \\\n",
    "                            V2XPreprocessing.get_json_data(data_path + \"/JSON\")\n",
    "\n",
    "# csv파일과 json파일 리스트를 pickle로 저장\n",
    "# with open(f\"{save_path}/CSV8.pkl\", \"wb\") as f:\n",
    "#     pkl.dump(csv_files8, f)\n",
    "# with open(f\"{save_path}/JSON8.pkl\", \"wb\") as f:\n",
    "#     pkl.dump(json_files8, f)\n",
    "\n",
    "print(f\"csv file count: {len(csv_files8)}, json file count: {len(json_files8)}\")"
   ]
  },
  {
   "cell_type": "code",
   "execution_count": null,
   "metadata": {},
   "outputs": [],
   "source": [
    "def get_csv_data(csv_folder: str) -> List[str]:\n",
    "    from joblib import Parallel, delayed\n",
    "    with Parrallel(n_jobs=os.cpu_count()) as prl:\n",
    "        csv_files = prl(delayed(([str(p) for p in pl.Path(csv_folder).rglob(\"*.csv\")])\n",
    "    return csv_files\n",
    "\n",
    "Parallel(n_jobs=2)(delayed(V2XPreprocessing.get_csv_data)(data_path + \"/CSV\"))"
   ]
  },
  {
   "cell_type": "markdown",
   "metadata": {},
   "source": [
    "# # ProcessPoolExecutor\n",
    "---"
   ]
  },
  {
   "cell_type": "code",
   "execution_count": 62,
   "metadata": {},
   "outputs": [
    {
     "name": "stderr",
     "output_type": "stream",
     "text": [
      "100%|██████████| 16666/16666 [00:00<00:00, 543766.49it/s]\n",
      "100%|██████████| 16666/16666 [00:00<00:00, 284131.32it/s]\n",
      "100%|██████████| 16666/16666 [00:00<00:00, 318155.53it/s]\n",
      "100%|██████████| 16666/16666 [00:00<00:00, 452117.06it/s]\n",
      "100%|██████████| 16666/16666 [00:00<00:00, 239216.02it/s]\n",
      "100%|██████████| 16666/16666 [00:00<00:00, 537275.82it/s]\n",
      "100%|██████████| 4/4 [00:00<00:00, 27147.60it/s]\n"
     ]
    }
   ],
   "source": [
    "import numpy as np\n",
    "from concurrent.futures import ProcessPoolExecutor\n",
    "from functools import partial\n",
    "from tqdm import tqdm\n",
    "\n",
    "## 1. 배열 자르기\n",
    "to_work_array = np.arange(1e5, dtype=np.int32)\n",
    "num_processes = 6\n",
    "batch_size = len(to_work_array)//num_processes\n",
    "test = 0\n",
    "\n",
    "# 배열을 중복생성하지 않고 인덱스만 저장\n",
    "# start_end_idxs = []\n",
    "# for i in range(num_processes+1):\n",
    "#     start_end_idxs.append(\n",
    "#         {\n",
    "#             's':batch_size*i,\n",
    "#             'e':batch_size*(i+1)\n",
    "#         }\n",
    "#     )\n",
    "start_end_idxs = [{'s': batch_size*i, 'e': batch_size*(i+1)} for i in np.arange(num_processes+1)]\n",
    "\n",
    "# 2. 함수 정의\n",
    "def compute_array(array, num):\n",
    "    global test\n",
    "    test = 10\n",
    "    return [item/2 for item in tqdm(array)]\n",
    "\n",
    "\n",
    "## 3. 병렬 실행\n",
    "# futures = []\n",
    "results = []\n",
    "with ProcessPoolExecutor(num_processes) as executor:\n",
    "    for idx in start_end_idxs:\n",
    "        batch = to_work_array[idx['s']:idx['e']]\n",
    "\n",
    "        task = partial(compute_array, batch, 1)\n",
    "        result = executor.submit(task).result()\n",
    "        # results.extend(result)\n",
    "\n",
    "    # for future in futures:\n",
    "    #     chunk_result = future.result()\n",
    "    #     results.extend(chunk_result)"
   ]
  },
  {
   "cell_type": "code",
   "execution_count": 48,
   "metadata": {},
   "outputs": [
    {
     "name": "stderr",
     "output_type": "stream",
     "text": [
      "100%|██████████| 100000/100000 [00:00<00:00, 2561172.41it/s]\n",
      "100%|██████████| 1000000/1000000 [00:00<00:00, 4787182.15it/s]]\n",
      "100%|██████████| 10000000/10000000 [00:01<00:00, 5833177.92it/s]\n",
      "100%|██████████| 100000000/100000000 [00:15<00:00, 6614402.59it/s]\n"
     ]
    },
    {
     "name": "stdout",
     "output_type": "stream",
     "text": [
      "type(result) <class 'generator'>\n",
      "\n",
      " Result -> [5000050000, 500000500000, 50000005000000, 5000000050000000] Time : 15.19s\n"
     ]
    }
   ],
   "source": [
    "import os\n",
    "import time\n",
    "from concurrent import futures\n",
    "\n",
    "\n",
    "WORK_LIST = [100000, 1000000, 10000000, 100000000]\n",
    "\n",
    "# 동시성 합계 계산 메인함수\n",
    "# 누적 합계 함수(제네레이터)\n",
    "def sum_generator(n):\n",
    "    return sum(n for n in tqdm(range(1, n+1)))\n",
    "\n",
    "def main():\n",
    "    # Worker Count\n",
    "    worker = min(4, len(WORK_LIST))\n",
    "    # 시작 시간\n",
    "    start_tm = time.time()\n",
    "    # 결과 건수\n",
    "    # ProcessPoolExecutor\n",
    "    # with futures.ThreadPoolExecutor() as excutor:\n",
    "    with futures.ProcessPoolExecutor(worker) as excutor:\n",
    "        # map -> 작업 순서 유지, 즉시 실행, 리턴타입 제너레이터\n",
    "        result = excutor.map(sum_generator, WORK_LIST)\n",
    "\n",
    "    print('type(result)', type(result))\n",
    "    \n",
    "    # 종료 시간\n",
    "    end_tm = time.time() - start_tm\n",
    "    # 출력 포멧\n",
    "    msg = '\\n Result -> {} Time : {:05.2f}s'\n",
    "    # 최종 결과 출력\n",
    "    print(msg.format(list(result), end_tm))\n",
    "\n",
    "# 실행\n",
    "if __name__ == '__main__':\n",
    "    main()"
   ]
  },
  {
   "cell_type": "code",
   "execution_count": 13,
   "metadata": {},
   "outputs": [
    {
     "name": "stderr",
     "output_type": "stream",
     "text": [
      "100%|██████████| 99/99 [00:00<00:00, 811.68it/s]"
     ]
    },
    {
     "name": "stdout",
     "output_type": "stream",
     "text": [
      "1\n",
      "1123\n",
      "5\n",
      "\n",
      "4\n",
      "7\n",
      "129613\n",
      "14\n",
      "\n",
      "\n",
      "\n",
      "15810\n",
      "16\n",
      "17\n",
      "\n",
      "\n",
      "19182120\n",
      "\n",
      "\n",
      "24252322\n",
      "26\n",
      "\n",
      "\n",
      "\n",
      "\n",
      "282729\n",
      "31\n",
      "30\n",
      "\n",
      "32\n",
      "343637\n",
      "39\n",
      "35\n",
      "\n",
      "\n",
      "\n",
      "\n",
      "38\n",
      "4043444241\n",
      "\n",
      "4547\n",
      "3346\n",
      "\n",
      "\n",
      "\n",
      "\n",
      "485049\n",
      "\n",
      "515452\n",
      "535556\n",
      "\n",
      "\n",
      "\n",
      "\n",
      "\n",
      "\n",
      "5758\n",
      "\n",
      "5961"
     ]
    },
    {
     "name": "stderr",
     "output_type": "stream",
     "text": [
      "\n"
     ]
    },
    {
     "name": "stdout",
     "output_type": "stream",
     "text": [
      "636265\n",
      "\n",
      "\n",
      "\n",
      "606668\n",
      "67\n",
      "\n",
      "64\n",
      "71\n",
      "69\n",
      "\n",
      "747375\n",
      "\n",
      "\n",
      "7076\n",
      "777278\n",
      "\n",
      "\n",
      "\n",
      "\n",
      "8182\n",
      "7980\n",
      "\n",
      "\n",
      "848386\n",
      "89\n",
      "\n",
      "908792\n",
      "8893\n",
      "85\n",
      "\n",
      "\n",
      "\n",
      "\n",
      "91959496\n",
      "\n",
      "98\n",
      "9799\n",
      "\n",
      "\n",
      "\n"
     ]
    }
   ],
   "source": [
    "import os\n",
    "import time\n",
    "from concurrent import futures\n",
    "from tqdm import tqdm\n",
    "import numpy as np\n",
    "\n",
    "# WORK_LIST = [100000, 1000000, 10000000, 100000000]\n",
    "WORK_LIST = tqdm(np.arange(1, 100))\n",
    "\n",
    "# 동시성 합계 계산 메인함수\n",
    "# 누적 합계 함수(제네레이터)\n",
    "def sum_generator(n):\n",
    "\n",
    "    def make_file(n):\n",
    "        with open(f\"test/{n}.txt\", \"w\") as f:\n",
    "            f.write('test')\n",
    "\n",
    "    make_file(n)\n",
    "\n",
    "    # for i in n:\n",
    "    #     make_file(i)\n",
    "\n",
    "\n",
    "def main():\n",
    "    # Worker Count\n",
    "    worker = min(10, len(WORK_LIST))\n",
    "    # 시작 시간\n",
    "    start_tm = time.time()\n",
    "    # 결과 건수\n",
    "    # ProcessPoolExecutor\n",
    "    # with futures.ThreadPoolExecutor() as excutor:\n",
    "    with futures.ProcessPoolExecutor(worker) as excutor:\n",
    "        # map -> 작업 순서 유지, 즉시 실행, 리턴타입 제너레이터\n",
    "        excutor.map(sum_generator, WORK_LIST)\n",
    "\n",
    "    # print('type(result)', type(result))\n",
    "    \n",
    "    # 종료 시간\n",
    "    end_tm = time.time() - start_tm\n",
    "    # 출력 포멧\n",
    "    msg = '\\n Result -> {} Time : {:05.2f}s'\n",
    "    # 최종 결과 출력\n",
    "    # print(msg.format(list(result), end_tm))\n",
    "\n",
    "# 실행\n",
    "if __name__ == '__main__':\n",
    "    main()"
   ]
  },
  {
   "cell_type": "code",
   "execution_count": null,
   "metadata": {},
   "outputs": [],
   "source": [
    "from time import time\n",
    "from concurrent.futures import ProcessPoolExecutor\n",
    "\n",
    "\n",
    "def gcd(pair):\n",
    "    a, b = pair\n",
    "    low = min(a, b)\n",
    "    for i in range(low, 0, -1):\n",
    "        if a % i == 0 and b % i == 0:\n",
    "            return i\n",
    "\n",
    "\n",
    "# 병렬성이 없으므로 이 함수를 순서대로 실행하면 시간이 선형적으로 증가\n",
    "numbers = [(1963309, 2265973), (2030677, 3814172), (1551645, 2229620),\n",
    "           (2039045, 2020802)]\n",
    "start = time()\n",
    "pool = ProcessPoolExecutor(max_workers=4)\n",
    "results = list(pool.map(gcd, numbers))\n",
    "end = time()\n",
    "print('Took %.3f seconds' % (end - start))"
   ]
  },
  {
   "cell_type": "markdown",
   "metadata": {},
   "source": [
    "# # multiprocessing\n",
    "---"
   ]
  },
  {
   "cell_type": "code",
   "execution_count": 14,
   "metadata": {},
   "outputs": [
    {
     "name": "stdout",
     "output_type": "stream",
     "text": [
      "싱글 프로세스: 10.360847473144531\n",
      "멀티 프로세스: 0.8460934162139893\n"
     ]
    }
   ],
   "source": [
    "from multiprocessing import Process, Queue\n",
    "import time\n",
    "\n",
    "\n",
    "def work():\n",
    "    n = 0\n",
    "    for i in range(10000000):\n",
    "        n += 1\n",
    "    time.sleep(0.1)\n",
    "\n",
    "\n",
    "if __name__ == '__main__':\n",
    "    # 싱글 프로세스\n",
    "    start_time = time.time()\n",
    "    for i in range(20):\n",
    "        work()\n",
    "\n",
    "    print(f\"싱글 프로세스: {time.time() - start_time}\")\n",
    "\n",
    "    # 멀티 프로세스\n",
    "    result = Queue()\n",
    "    processes = []\n",
    "    start_time = time.time()\n",
    "    for i in range(20):\n",
    "        processes.append(Process(target=work))\n",
    "        processes[-1].start()\n",
    "\n",
    "    while processes:\n",
    "        processes.pop().join()\n",
    "\n",
    "    print(f\"멀티 프로세스: {time.time() - start_time}\")"
   ]
  },
  {
   "cell_type": "code",
   "execution_count": 15,
   "metadata": {},
   "outputs": [
    {
     "data": {
      "text/plain": [
       "<multiprocessing.queues.Queue at 0x7f0d068d0790>"
      ]
     },
     "execution_count": 15,
     "metadata": {},
     "output_type": "execute_result"
    }
   ],
   "source": [
    "Queue()"
   ]
  },
  {
   "cell_type": "code",
   "execution_count": 83,
   "metadata": {},
   "outputs": [
    {
     "name": "stderr",
     "output_type": "stream",
     "text": [
      "100%|██████████| 4000000/4000000 [00:00<00:00, 5856802.89it/s]\n"
     ]
    },
    {
     "name": "stdout",
     "output_type": "stream",
     "text": [
      "0 done\n"
     ]
    },
    {
     "name": "stderr",
     "output_type": "stream",
     "text": [
      "100%|██████████| 4000000/4000000 [00:00<00:00, 5430941.63it/s]\n"
     ]
    },
    {
     "name": "stdout",
     "output_type": "stream",
     "text": [
      "1 done\n"
     ]
    },
    {
     "name": "stderr",
     "output_type": "stream",
     "text": [
      "100%|██████████| 4000000/4000000 [00:00<00:00, 5460115.83it/s]\n"
     ]
    },
    {
     "name": "stdout",
     "output_type": "stream",
     "text": [
      "3 done\n"
     ]
    },
    {
     "name": "stderr",
     "output_type": "stream",
     "text": [
      "100%|██████████| 4000000/4000000 [00:00<00:00, 4705124.02it/s]\n"
     ]
    },
    {
     "name": "stdout",
     "output_type": "stream",
     "text": [
      "2 done\n",
      "수행시간: 0.897320 초\n"
     ]
    }
   ],
   "source": [
    "import time\n",
    "\n",
    "\n",
    "def heavy_work(name):\n",
    "    result = 0\n",
    "    for i in tqdm(range(4000000)):\n",
    "        result += i\n",
    "    print('%s done' % name)\n",
    "\n",
    "\n",
    "if __name__ == '__main__':\n",
    "    import multiprocessing\n",
    "\n",
    "    start = time.time()\n",
    "    procs = []\n",
    "    for i in range(4):\n",
    "        p = multiprocessing.Process(target=heavy_work, args=(i, ))\n",
    "        p.start()\n",
    "        procs.append(p)\n",
    "\n",
    "    for p in procs:\n",
    "        p.join()  # 프로세스가 모두 종료될 때까지 대기\n",
    "\n",
    "    end = time.time()\n",
    "\n",
    "    print(\"수행시간: %f 초\" % (end - start))"
   ]
  },
  {
   "cell_type": "code",
   "execution_count": 94,
   "metadata": {},
   "outputs": [
    {
     "name": "stderr",
     "output_type": "stream",
     "text": [
      "100%|██████████| 4000000/4000000 [00:00<00:00, 5915005.81it/s]\n"
     ]
    },
    {
     "name": "stdout",
     "output_type": "stream",
     "text": [
      "2 done\n"
     ]
    },
    {
     "name": "stderr",
     "output_type": "stream",
     "text": [
      "100%|██████████| 4000000/4000000 [00:00<00:00, 5842273.53it/s]\n"
     ]
    },
    {
     "name": "stdout",
     "output_type": "stream",
     "text": [
      "3 done\n"
     ]
    },
    {
     "name": "stderr",
     "output_type": "stream",
     "text": [
      "100%|██████████| 4000000/4000000 [00:00<00:00, 5550985.73it/s]\n"
     ]
    },
    {
     "name": "stdout",
     "output_type": "stream",
     "text": [
      "1 done\n"
     ]
    },
    {
     "name": "stderr",
     "output_type": "stream",
     "text": [
      "100%|██████████| 4000000/4000000 [00:00<00:00, 4922659.46it/s]\n"
     ]
    },
    {
     "name": "stdout",
     "output_type": "stream",
     "text": [
      "0 done\n",
      "수행시간: 0.881727 초\n"
     ]
    }
   ],
   "source": [
    "import time\n",
    "\n",
    "\n",
    "def heavy_work(name):\n",
    "    result = 0\n",
    "    for i in tqdm(range(4000000)):\n",
    "        result += i\n",
    "    print('%s done' % name)\n",
    "\n",
    "\n",
    "if __name__ == '__main__':\n",
    "    import multiprocessing\n",
    "\n",
    "    start = time.time()\n",
    "    pool = multiprocessing.Pool(processes=4)\n",
    "    pool.map(heavy_work, np.arange(4))\n",
    "    pool.close()\n",
    "    pool.join()\n",
    "\n",
    "    end = time.time()\n",
    "\n",
    "    print(\"수행시간: %f 초\" % (end - start))"
   ]
  },
  {
   "cell_type": "code",
   "execution_count": 96,
   "metadata": {},
   "outputs": [
    {
     "name": "stdout",
     "output_type": "stream",
     "text": [
      "0\n",
      "1\n",
      "2\n",
      "3\n"
     ]
    }
   ],
   "source": [
    "for i in np.arange(4):\n",
    "    print(i)"
   ]
  },
  {
   "cell_type": "code",
   "execution_count": null,
   "metadata": {},
   "outputs": [],
   "source": []
  },
  {
   "cell_type": "code",
   "execution_count": 65,
   "metadata": {},
   "outputs": [
    {
     "data": {
      "text/plain": [
       "[<Process name='Process-333' pid=1083369 parent=1002115 stopped exitcode=0>]"
      ]
     },
     "execution_count": 65,
     "metadata": {},
     "output_type": "execute_result"
    }
   ],
   "source": [
    "procs"
   ]
  }
 ],
 "metadata": {
  "kernelspec": {
   "display_name": "nia48_310",
   "language": "python",
   "name": "python3"
  },
  "language_info": {
   "codemirror_mode": {
    "name": "ipython",
    "version": 3
   },
   "file_extension": ".py",
   "mimetype": "text/x-python",
   "name": "python",
   "nbconvert_exporter": "python",
   "pygments_lexer": "ipython3",
   "version": "3.10.10"
  },
  "orig_nbformat": 4
 },
 "nbformat": 4,
 "nbformat_minor": 2
}
