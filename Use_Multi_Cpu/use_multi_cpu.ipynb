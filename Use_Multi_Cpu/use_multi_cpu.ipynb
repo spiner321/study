{
 "cells": [
  {
   "cell_type": "code",
   "execution_count": null,
   "metadata": {},
   "outputs": [],
   "source": [
    "from joblib import Parallel, delayed\n",
    "\n",
    "# csv파일과 json파일을 각각 리스트로 가져옴\n",
    "csv_files8, json_files8 = Parallel(os.cpu_count())(delayed(V2XPreprocessing.get_csv_data)(data_path + \"/CSV\"), \\\n",
    "                            V2XPreprocessing.get_json_data(data_path + \"/JSON\")\n",
    "\n",
    "# csv파일과 json파일 리스트를 pickle로 저장\n",
    "# with open(f\"{save_path}/CSV8.pkl\", \"wb\") as f:\n",
    "#     pkl.dump(csv_files8, f)\n",
    "# with open(f\"{save_path}/JSON8.pkl\", \"wb\") as f:\n",
    "#     pkl.dump(json_files8, f)\n",
    "\n",
    "print(f\"csv file count: {len(csv_files8)}, json file count: {len(json_files8)}\")"
   ]
  },
  {
   "cell_type": "code",
   "execution_count": null,
   "metadata": {},
   "outputs": [],
   "source": [
    "def get_csv_data(csv_folder: str) -> List[str]:\n",
    "    from joblib import Parallel, delayed\n",
    "    with Parrallel(n_jobs=os.cpu_count()) as prl:\n",
    "        csv_files = prl(delayed(([str(p) for p in pl.Path(csv_folder).rglob(\"*.csv\")])\n",
    "    return csv_files\n",
    "\n",
    "Parallel(n_jobs=2)(delayed(V2XPreprocessing.get_csv_data)(data_path + \"/CSV\"))"
   ]
  }
 ],
 "metadata": {
  "language_info": {
   "name": "python"
  },
  "orig_nbformat": 4
 },
 "nbformat": 4,
 "nbformat_minor": 2
}
